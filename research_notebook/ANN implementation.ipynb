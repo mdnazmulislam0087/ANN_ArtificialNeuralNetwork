{
 "cells": [
  {
   "cell_type": "code",
   "execution_count": 3,
   "id": "40804210",
   "metadata": {},
   "outputs": [],
   "source": [
    "import tensorflow as tf\n",
    "\n"
   ]
  },
  {
   "cell_type": "code",
   "execution_count": 31,
   "id": "55fc6262",
   "metadata": {},
   "outputs": [],
   "source": [
    "import tensorboard"
   ]
  },
  {
   "cell_type": "code",
   "execution_count": 4,
   "id": "328876ca",
   "metadata": {},
   "outputs": [
    {
     "data": {
      "text/plain": [
       "'2.6.0'"
      ]
     },
     "execution_count": 4,
     "metadata": {},
     "output_type": "execute_result"
    }
   ],
   "source": [
    "tf.__version__"
   ]
  },
  {
   "cell_type": "code",
   "execution_count": 5,
   "id": "5a1cc50b",
   "metadata": {},
   "outputs": [
    {
     "data": {
      "text/plain": [
       "'2.6.0'"
      ]
     },
     "execution_count": 5,
     "metadata": {},
     "output_type": "execute_result"
    }
   ],
   "source": [
    "tf.keras.__version__"
   ]
  },
  {
   "cell_type": "code",
   "execution_count": 6,
   "id": "963a421d",
   "metadata": {},
   "outputs": [
    {
     "data": {
      "text/plain": [
       "[]"
      ]
     },
     "execution_count": 6,
     "metadata": {},
     "output_type": "execute_result"
    }
   ],
   "source": [
    "tf.config.list_logical_devices(\"GPU\")"
   ]
  },
  {
   "cell_type": "code",
   "execution_count": 7,
   "id": "08ba057c",
   "metadata": {},
   "outputs": [
    {
     "data": {
      "text/plain": [
       "[PhysicalDevice(name='/physical_device:CPU:0', device_type='CPU')]"
      ]
     },
     "execution_count": 7,
     "metadata": {},
     "output_type": "execute_result"
    }
   ],
   "source": [
    "tf.config.list_physical_devices(\"CPU\")"
   ]
  },
  {
   "cell_type": "code",
   "execution_count": 8,
   "id": "26447ec4",
   "metadata": {},
   "outputs": [],
   "source": [
    "import numpy as np\n",
    "import matplotlib.pyplot as plt\n",
    "import pandas as pd\n",
    "import seaborn as sns"
   ]
  },
  {
   "cell_type": "code",
   "execution_count": 9,
   "id": "65601d85",
   "metadata": {},
   "outputs": [],
   "source": [
    "mnist=tf.keras.datasets.mnist"
   ]
  },
  {
   "cell_type": "code",
   "execution_count": 10,
   "id": "83c995c4",
   "metadata": {},
   "outputs": [],
   "source": [
    "(X_train_full,y_train_full),(X_test,y_test)=mnist.load_data()"
   ]
  },
  {
   "cell_type": "code",
   "execution_count": 11,
   "id": "b8ad7375",
   "metadata": {},
   "outputs": [
    {
     "data": {
      "text/plain": [
       "(60000, 28, 28)"
      ]
     },
     "execution_count": 11,
     "metadata": {},
     "output_type": "execute_result"
    }
   ],
   "source": [
    "X_train_full.shape"
   ]
  },
  {
   "cell_type": "code",
   "execution_count": 12,
   "id": "09984872",
   "metadata": {},
   "outputs": [
    {
     "data": {
      "text/plain": [
       "(28, 28)"
      ]
     },
     "execution_count": 12,
     "metadata": {},
     "output_type": "execute_result"
    }
   ],
   "source": [
    "X_train_full[0].shape"
   ]
  },
  {
   "cell_type": "code",
   "execution_count": 13,
   "id": "f9b0ecb1",
   "metadata": {},
   "outputs": [
    {
     "data": {
      "text/plain": [
       "array([[  0,   0,   0,   0,   0,   0,   0,   0,   0,   0,   0,   0,   0,\n",
       "          0,   0,   0,   0,   0,   0,   0,   0,   0,   0,   0,   0,   0,\n",
       "          0,   0],\n",
       "       [  0,   0,   0,   0,   0,   0,   0,   0,   0,   0,   0,   0,   0,\n",
       "          0,   0,   0,   0,   0,   0,   0,   0,   0,   0,   0,   0,   0,\n",
       "          0,   0],\n",
       "       [  0,   0,   0,   0,   0,   0,   0,   0,   0,   0,   0,   0,   0,\n",
       "          0,   0,   0,   0,   0,   0,   0,   0,   0,   0,   0,   0,   0,\n",
       "          0,   0],\n",
       "       [  0,   0,   0,   0,   0,   0,   0,   0,   0,   0,   0,   0,   0,\n",
       "          0,   0,   0,   0,   0,   0,   0,   0,   0,   0,   0,   0,   0,\n",
       "          0,   0],\n",
       "       [  0,   0,   0,   0,   0,   0,   0,   0,   0,   0,   0,   0,   0,\n",
       "          0,   0,   0,   0,   0,   0,   0,   0,   0,   0,   0,   0,   0,\n",
       "          0,   0],\n",
       "       [  0,   0,   0,   0,   0,   0,   0,   0,   0,   0,   0,   0,   3,\n",
       "         18,  18,  18, 126, 136, 175,  26, 166, 255, 247, 127,   0,   0,\n",
       "          0,   0],\n",
       "       [  0,   0,   0,   0,   0,   0,   0,   0,  30,  36,  94, 154, 170,\n",
       "        253, 253, 253, 253, 253, 225, 172, 253, 242, 195,  64,   0,   0,\n",
       "          0,   0],\n",
       "       [  0,   0,   0,   0,   0,   0,   0,  49, 238, 253, 253, 253, 253,\n",
       "        253, 253, 253, 253, 251,  93,  82,  82,  56,  39,   0,   0,   0,\n",
       "          0,   0],\n",
       "       [  0,   0,   0,   0,   0,   0,   0,  18, 219, 253, 253, 253, 253,\n",
       "        253, 198, 182, 247, 241,   0,   0,   0,   0,   0,   0,   0,   0,\n",
       "          0,   0],\n",
       "       [  0,   0,   0,   0,   0,   0,   0,   0,  80, 156, 107, 253, 253,\n",
       "        205,  11,   0,  43, 154,   0,   0,   0,   0,   0,   0,   0,   0,\n",
       "          0,   0],\n",
       "       [  0,   0,   0,   0,   0,   0,   0,   0,   0,  14,   1, 154, 253,\n",
       "         90,   0,   0,   0,   0,   0,   0,   0,   0,   0,   0,   0,   0,\n",
       "          0,   0],\n",
       "       [  0,   0,   0,   0,   0,   0,   0,   0,   0,   0,   0, 139, 253,\n",
       "        190,   2,   0,   0,   0,   0,   0,   0,   0,   0,   0,   0,   0,\n",
       "          0,   0],\n",
       "       [  0,   0,   0,   0,   0,   0,   0,   0,   0,   0,   0,  11, 190,\n",
       "        253,  70,   0,   0,   0,   0,   0,   0,   0,   0,   0,   0,   0,\n",
       "          0,   0],\n",
       "       [  0,   0,   0,   0,   0,   0,   0,   0,   0,   0,   0,   0,  35,\n",
       "        241, 225, 160, 108,   1,   0,   0,   0,   0,   0,   0,   0,   0,\n",
       "          0,   0],\n",
       "       [  0,   0,   0,   0,   0,   0,   0,   0,   0,   0,   0,   0,   0,\n",
       "         81, 240, 253, 253, 119,  25,   0,   0,   0,   0,   0,   0,   0,\n",
       "          0,   0],\n",
       "       [  0,   0,   0,   0,   0,   0,   0,   0,   0,   0,   0,   0,   0,\n",
       "          0,  45, 186, 253, 253, 150,  27,   0,   0,   0,   0,   0,   0,\n",
       "          0,   0],\n",
       "       [  0,   0,   0,   0,   0,   0,   0,   0,   0,   0,   0,   0,   0,\n",
       "          0,   0,  16,  93, 252, 253, 187,   0,   0,   0,   0,   0,   0,\n",
       "          0,   0],\n",
       "       [  0,   0,   0,   0,   0,   0,   0,   0,   0,   0,   0,   0,   0,\n",
       "          0,   0,   0,   0, 249, 253, 249,  64,   0,   0,   0,   0,   0,\n",
       "          0,   0],\n",
       "       [  0,   0,   0,   0,   0,   0,   0,   0,   0,   0,   0,   0,   0,\n",
       "          0,  46, 130, 183, 253, 253, 207,   2,   0,   0,   0,   0,   0,\n",
       "          0,   0],\n",
       "       [  0,   0,   0,   0,   0,   0,   0,   0,   0,   0,   0,   0,  39,\n",
       "        148, 229, 253, 253, 253, 250, 182,   0,   0,   0,   0,   0,   0,\n",
       "          0,   0],\n",
       "       [  0,   0,   0,   0,   0,   0,   0,   0,   0,   0,  24, 114, 221,\n",
       "        253, 253, 253, 253, 201,  78,   0,   0,   0,   0,   0,   0,   0,\n",
       "          0,   0],\n",
       "       [  0,   0,   0,   0,   0,   0,   0,   0,  23,  66, 213, 253, 253,\n",
       "        253, 253, 198,  81,   2,   0,   0,   0,   0,   0,   0,   0,   0,\n",
       "          0,   0],\n",
       "       [  0,   0,   0,   0,   0,   0,  18, 171, 219, 253, 253, 253, 253,\n",
       "        195,  80,   9,   0,   0,   0,   0,   0,   0,   0,   0,   0,   0,\n",
       "          0,   0],\n",
       "       [  0,   0,   0,   0,  55, 172, 226, 253, 253, 253, 253, 244, 133,\n",
       "         11,   0,   0,   0,   0,   0,   0,   0,   0,   0,   0,   0,   0,\n",
       "          0,   0],\n",
       "       [  0,   0,   0,   0, 136, 253, 253, 253, 212, 135, 132,  16,   0,\n",
       "          0,   0,   0,   0,   0,   0,   0,   0,   0,   0,   0,   0,   0,\n",
       "          0,   0],\n",
       "       [  0,   0,   0,   0,   0,   0,   0,   0,   0,   0,   0,   0,   0,\n",
       "          0,   0,   0,   0,   0,   0,   0,   0,   0,   0,   0,   0,   0,\n",
       "          0,   0],\n",
       "       [  0,   0,   0,   0,   0,   0,   0,   0,   0,   0,   0,   0,   0,\n",
       "          0,   0,   0,   0,   0,   0,   0,   0,   0,   0,   0,   0,   0,\n",
       "          0,   0],\n",
       "       [  0,   0,   0,   0,   0,   0,   0,   0,   0,   0,   0,   0,   0,\n",
       "          0,   0,   0,   0,   0,   0,   0,   0,   0,   0,   0,   0,   0,\n",
       "          0,   0]], dtype=uint8)"
      ]
     },
     "execution_count": 13,
     "metadata": {},
     "output_type": "execute_result"
    }
   ],
   "source": [
    "X_train_full[0]"
   ]
  },
  {
   "cell_type": "code",
   "execution_count": 14,
   "id": "e5354387",
   "metadata": {},
   "outputs": [
    {
     "data": {
      "image/png": "[encoded data removed]",
      "text/plain": [
       "<Figure size 432x288 with 1 Axes>"
      ]
     },
     "metadata": {
      "needs_background": "light"
     },
     "output_type": "display_data"
    }
   ],
   "source": [
    "img=X_train_full[0]\n",
    "plt.imshow(img, cmap='binary')\n",
    "plt.axis('off')\n",
    "plt.show()"
   ]
  },
  {
   "cell_type": "code",
   "execution_count": 15,
   "id": "30295355",
   "metadata": {},
   "outputs": [
    {
     "data": {
      "text/plain": [
       "(60000,)"
      ]
     },
     "execution_count": 15,
     "metadata": {},
     "output_type": "execute_result"
    }
   ],
   "source": [
    "y_train_full.shape"
   ]
  },
  {
   "cell_type": "code",
   "execution_count": 16,
   "id": "e7370bd4",
   "metadata": {},
   "outputs": [
    {
     "data": {
      "text/plain": [
       "5"
      ]
     },
     "execution_count": 16,
     "metadata": {},
     "output_type": "execute_result"
    }
   ],
   "source": [
    "y_train_full[0]"
   ]
  },
  {
   "cell_type": "code",
   "execution_count": 17,
   "id": "69d00bf0",
   "metadata": {},
   "outputs": [
    {
     "data": {
      "text/plain": [
       "(255, 0)"
      ]
     },
     "execution_count": 17,
     "metadata": {},
     "output_type": "execute_result"
    }
   ],
   "source": [
    "img.max(),img.min()"
   ]
  },
  {
   "cell_type": "code",
   "execution_count": 18,
   "id": "960f2b70",
   "metadata": {},
   "outputs": [
    {
     "data": {
      "text/plain": [
       "<AxesSubplot:>"
      ]
     },
     "execution_count": 18,
     "metadata": {},
     "output_type": "execute_result"
    },
    {
     "data": {
      "image/png": "[encoded data removed]",
      "text/plain": [
       "<Figure size 1080x1080 with 2 Axes>"
      ]
     },
     "metadata": {
      "needs_background": "light"
     },
     "output_type": "display_data"
    }
   ],
   "source": [
    "plt.figure(figsize=(15,15))\n",
    "sns.heatmap(img, annot=True, cmap='binary')\n"
   ]
  },
  {
   "cell_type": "code",
   "execution_count": 19,
   "id": "3a1742a3",
   "metadata": {},
   "outputs": [
    {
     "data": {
      "text/plain": [
       "<AxesSubplot:>"
      ]
     },
     "execution_count": 19,
     "metadata": {},
     "output_type": "execute_result"
    },
    {
     "data": {
      "image/png": "[encoded data removed]",
      "text/plain": [
       "<Figure size 1080x1080 with 2 Axes>"
      ]
     },
     "metadata": {
      "needs_background": "light"
     },
     "output_type": "display_data"
    }
   ],
   "source": [
    "plt.figure(figsize=(15,15))\n",
    "sns.heatmap(img/255, annot=True, cmap='binary')"
   ]
  },
  {
   "cell_type": "code",
   "execution_count": 25,
   "id": "ccc8ec23",
   "metadata": {},
   "outputs": [],
   "source": [
    "X_valid, X_train=X_train_full[:5000]/255.,X_train_full[5000:]/255.\n",
    "y_valid, y_train=y_train_full[:5000] , y_train_full[5000:]"
   ]
  },
  {
   "cell_type": "code",
   "execution_count": 34,
   "id": "b04a06e4",
   "metadata": {},
   "outputs": [
    {
     "name": "stdout",
     "output_type": "stream",
     "text": [
      "Savings log at :logs\\fit\\log_2022_04_07_22_4359\n"
     ]
    }
   ],
   "source": [
    "# create tensorflow log directory with uniq name\n",
    "import os\n",
    "import time\n",
    "def get_log_path(log_dir=\"logs\\\\fit\"):\n",
    "    unique_name =time.strftime(\"log_%Y_%m_%d_%H_%M%S\")\n",
    "    log_path=os.path.join(log_dir, unique_name)\n",
    "    \n",
    "    print(f\"Savings log at :{log_path}\")\n",
    "    \n",
    "    return log_path\n",
    "\n",
    "log_dir= get_log_path()"
   ]
  },
  {
   "cell_type": "code",
   "execution_count": 35,
   "id": "baffed09",
   "metadata": {},
   "outputs": [],
   "source": [
    "file_writer=tf.summary.create_file_writer(logdir=log_dir)"
   ]
  },
  {
   "cell_type": "code",
   "execution_count": 36,
   "id": "591b4b0f",
   "metadata": {},
   "outputs": [],
   "source": [
    "with file_writer.as_default():\n",
    "    images=np.reshape(X_train[10:30], (-1,28,28 , 1))\n",
    "    tf.summary.image(\"20 handwritten digit samples\", images, max_outputs=25 , step=0)"
   ]
  },
  {
   "cell_type": "code",
   "execution_count": 37,
   "id": "268c34ea",
   "metadata": {},
   "outputs": [
    {
     "name": "stdout",
     "output_type": "stream",
     "text": [
      "The tensorboard extension is already loaded. To reload it, use:\n",
      "  %reload_ext tensorboard\n"
     ]
    }
   ],
   "source": [
    "%load_ext tensorboard"
   ]
  },
  {
   "cell_type": "code",
   "execution_count": 41,
   "id": "302d0024",
   "metadata": {},
   "outputs": [
    {
     "data": {
      "text/plain": [
       "ERROR: Could not find `tensorboard`. Please ensure that your PATH\n",
       "contains an executable `tensorboard` program, or explicitly specify\n",
       "the path to a TensorBoard binary by setting the `TENSORBOARD_BINARY`\n",
       "environment variable."
      ]
     },
     "metadata": {},
     "output_type": "display_data"
    }
   ],
   "source": [
    "%tensorboard --logdir logs/fit"
   ]
  },
  {
   "cell_type": "code",
   "execution_count": 42,
   "id": "354c9dd6",
   "metadata": {},
   "outputs": [
    {
     "data": {
      "text/plain": [
       "(10000, 28, 28)"
      ]
     },
     "execution_count": 42,
     "metadata": {},
     "output_type": "execute_result"
    }
   ],
   "source": [
    "X_test.shape"
   ]
  },
  {
   "cell_type": "code",
   "execution_count": 43,
   "id": "620022a8",
   "metadata": {},
   "outputs": [
    {
     "data": {
      "text/plain": [
       "(10000,)"
      ]
     },
     "execution_count": 43,
     "metadata": {},
     "output_type": "execute_result"
    }
   ],
   "source": [
    "y_test.shape"
   ]
  },
  {
   "cell_type": "code",
   "execution_count": 44,
   "id": "a48c32a0",
   "metadata": {},
   "outputs": [],
   "source": [
    "X_valid, X_train=X_train_full[:5000]/255.,X_train_full[5000:]/255.\n",
    "y_valid, y_train=y_train_full[:5000] , y_train_full[5000:]"
   ]
  },
  {
   "cell_type": "code",
   "execution_count": 45,
   "id": "94615685",
   "metadata": {},
   "outputs": [],
   "source": [
    "X_test=X_test_full/255.\n",
    "y_test=y_test"
   ]
  },
  {
   "cell_type": "code",
   "execution_count": 51,
   "id": "2d30d315",
   "metadata": {},
   "outputs": [],
   "source": [
    "LAYERS= [\n",
    "    \n",
    "    tf.keras.layers.Flatten(input_shape=[28,28], name=\"inputLayer\"),\n",
    "    tf.keras.layers.Dense(300, activation='relu', name=\"hiddenLayer1\"),\n",
    "    tf.keras.layers.Dense(100, activation='relu', name=\"hiddenLayer2\"),\n",
    "    tf.keras.layers.Dense(10, activation='softmax', name=\"outputLayer\")\n",
    "    \n",
    "]"
   ]
  },
  {
   "cell_type": "code",
   "execution_count": 52,
   "id": "b312a797",
   "metadata": {},
   "outputs": [],
   "source": [
    "model_clf=tf.keras.models.Sequential(LAYERS)"
   ]
  },
  {
   "cell_type": "code",
   "execution_count": 53,
   "id": "36450a5b",
   "metadata": {},
   "outputs": [
    {
     "data": {
      "text/plain": [
       "[<keras.layers.core.Flatten at 0x217ab0d5220>,\n",
       " <keras.layers.core.Dense at 0x217ab0d5ca0>,\n",
       " <keras.layers.core.Dense at 0x217aaad6340>,\n",
       " <keras.layers.core.Dense at 0x217c115f880>]"
      ]
     },
     "execution_count": 53,
     "metadata": {},
     "output_type": "execute_result"
    }
   ],
   "source": [
    "model_clf.layers"
   ]
  },
  {
   "cell_type": "code",
   "execution_count": 54,
   "id": "48ee85b2",
   "metadata": {},
   "outputs": [
    {
     "name": "stdout",
     "output_type": "stream",
     "text": [
      "Model: \"sequential_1\"\n",
      "_________________________________________________________________\n",
      "Layer (type)                 Output Shape              Param #   \n",
      "=================================================================\n",
      "inputLayer (Flatten)         (None, 784)               0         \n",
      "_________________________________________________________________\n",
      "hiddenLayer1 (Dense)         (None, 300)               235500    \n",
      "_________________________________________________________________\n",
      "hiddenLayer2 (Dense)         (None, 100)               30100     \n",
      "_________________________________________________________________\n",
      "outputLayer (Dense)          (None, 10)                1010      \n",
      "=================================================================\n",
      "Total params: 266,610\n",
      "Trainable params: 266,610\n",
      "Non-trainable params: 0\n",
      "_________________________________________________________________\n"
     ]
    }
   ],
   "source": [
    "model_clf.summary()"
   ]
  },
  {
   "cell_type": "code",
   "execution_count": 64,
   "id": "c495c6ae",
   "metadata": {},
   "outputs": [
    {
     "data": {
      "text/plain": [
       "(235500, 30100, 1010)"
      ]
     },
     "execution_count": 64,
     "metadata": {},
     "output_type": "execute_result"
    }
   ],
   "source": [
    "# first layer *second layer+bias\n",
    "784*300+300,300*100+100,100*10+10\n"
   ]
  },
  {
   "cell_type": "code",
   "execution_count": 66,
   "id": "65e3284b",
   "metadata": {},
   "outputs": [
    {
     "data": {
      "text/plain": [
       "266610"
      ]
     },
     "execution_count": 66,
     "metadata": {},
     "output_type": "execute_result"
    }
   ],
   "source": [
    "np.sum((235500, 30100, 1010))"
   ]
  },
  {
   "cell_type": "code",
   "execution_count": 71,
   "id": "2af4e671",
   "metadata": {},
   "outputs": [
    {
     "data": {
      "text/plain": [
       "'inputLayer'"
      ]
     },
     "execution_count": 71,
     "metadata": {},
     "output_type": "execute_result"
    }
   ],
   "source": [
    "model_clf.layers[0].name"
   ]
  },
  {
   "cell_type": "code",
   "execution_count": 72,
   "id": "01ceb382",
   "metadata": {},
   "outputs": [
    {
     "data": {
      "text/plain": [
       "'hiddenLayer1'"
      ]
     },
     "execution_count": 72,
     "metadata": {},
     "output_type": "execute_result"
    }
   ],
   "source": [
    "model_clf.layers[1].name"
   ]
  },
  {
   "cell_type": "code",
   "execution_count": 69,
   "id": "3e2a6e04",
   "metadata": {},
   "outputs": [
    {
     "data": {
      "text/plain": [
       "[]"
      ]
     },
     "execution_count": 69,
     "metadata": {},
     "output_type": "execute_result"
    }
   ],
   "source": [
    "model_clf.layers[0].get_weights()"
   ]
  },
  {
   "cell_type": "code",
   "execution_count": 73,
   "id": "d417089f",
   "metadata": {},
   "outputs": [
    {
     "data": {
      "text/plain": [
       "[array([[ 0.03868408,  0.05819887, -0.04508677, ...,  0.01543309,\n",
       "         -0.04780681,  0.01152193],\n",
       "        [-0.06952389,  0.01698373,  0.05069911, ...,  0.0662251 ,\n",
       "          0.01645647, -0.01727646],\n",
       "        [ 0.04294331,  0.06778382,  0.0262856 , ...,  0.0254015 ,\n",
       "          0.0192993 , -0.00318781],\n",
       "        ...,\n",
       "        [ 0.02857421, -0.0017494 , -0.03905687, ..., -0.04872984,\n",
       "          0.02942939, -0.04059808],\n",
       "        [ 0.03431989,  0.01167726, -0.03368259, ..., -0.01074797,\n",
       "         -0.05569849,  0.06692994],\n",
       "        [ 0.03926095,  0.04078349, -0.01845429, ...,  0.01414125,\n",
       "          0.00925113, -0.05184354]], dtype=float32),\n",
       " array([0., 0., 0., 0., 0., 0., 0., 0., 0., 0., 0., 0., 0., 0., 0., 0., 0.,\n",
       "        0., 0., 0., 0., 0., 0., 0., 0., 0., 0., 0., 0., 0., 0., 0., 0., 0.,\n",
       "        0., 0., 0., 0., 0., 0., 0., 0., 0., 0., 0., 0., 0., 0., 0., 0., 0.,\n",
       "        0., 0., 0., 0., 0., 0., 0., 0., 0., 0., 0., 0., 0., 0., 0., 0., 0.,\n",
       "        0., 0., 0., 0., 0., 0., 0., 0., 0., 0., 0., 0., 0., 0., 0., 0., 0.,\n",
       "        0., 0., 0., 0., 0., 0., 0., 0., 0., 0., 0., 0., 0., 0., 0., 0., 0.,\n",
       "        0., 0., 0., 0., 0., 0., 0., 0., 0., 0., 0., 0., 0., 0., 0., 0., 0.,\n",
       "        0., 0., 0., 0., 0., 0., 0., 0., 0., 0., 0., 0., 0., 0., 0., 0., 0.,\n",
       "        0., 0., 0., 0., 0., 0., 0., 0., 0., 0., 0., 0., 0., 0., 0., 0., 0.,\n",
       "        0., 0., 0., 0., 0., 0., 0., 0., 0., 0., 0., 0., 0., 0., 0., 0., 0.,\n",
       "        0., 0., 0., 0., 0., 0., 0., 0., 0., 0., 0., 0., 0., 0., 0., 0., 0.,\n",
       "        0., 0., 0., 0., 0., 0., 0., 0., 0., 0., 0., 0., 0., 0., 0., 0., 0.,\n",
       "        0., 0., 0., 0., 0., 0., 0., 0., 0., 0., 0., 0., 0., 0., 0., 0., 0.,\n",
       "        0., 0., 0., 0., 0., 0., 0., 0., 0., 0., 0., 0., 0., 0., 0., 0., 0.,\n",
       "        0., 0., 0., 0., 0., 0., 0., 0., 0., 0., 0., 0., 0., 0., 0., 0., 0.,\n",
       "        0., 0., 0., 0., 0., 0., 0., 0., 0., 0., 0., 0., 0., 0., 0., 0., 0.,\n",
       "        0., 0., 0., 0., 0., 0., 0., 0., 0., 0., 0., 0., 0., 0., 0., 0., 0.,\n",
       "        0., 0., 0., 0., 0., 0., 0., 0., 0., 0., 0.], dtype=float32)]"
      ]
     },
     "execution_count": 73,
     "metadata": {},
     "output_type": "execute_result"
    }
   ],
   "source": [
    "model_clf.layers[1].get_weights()"
   ]
  },
  {
   "cell_type": "code",
   "execution_count": 74,
   "id": "fbacf0af",
   "metadata": {},
   "outputs": [],
   "source": [
    "weights,biases=model_clf.layers[1].get_weights()"
   ]
  },
  {
   "cell_type": "code",
   "execution_count": 75,
   "id": "6ad796f6",
   "metadata": {},
   "outputs": [
    {
     "data": {
      "text/plain": [
       "(784, 300)"
      ]
     },
     "execution_count": 75,
     "metadata": {},
     "output_type": "execute_result"
    }
   ],
   "source": [
    "weights.shape"
   ]
  },
  {
   "cell_type": "code",
   "execution_count": 76,
   "id": "63dae108",
   "metadata": {},
   "outputs": [
    {
     "data": {
      "text/plain": [
       "(300,)"
      ]
     },
     "execution_count": 76,
     "metadata": {},
     "output_type": "execute_result"
    }
   ],
   "source": [
    "biases.shape"
   ]
  },
  {
   "cell_type": "code",
   "execution_count": 77,
   "id": "930b930d",
   "metadata": {},
   "outputs": [],
   "source": [
    "# compile model\n",
    "LOSS_FUNCTION = \"sparse_categorical_crossentropy\"\n",
    "OPTIMIZER = \"SGD\"\n",
    "METRICS = [\"accuracy\"]\n",
    "\n",
    "model_clf.compile(loss=LOSS_FUNCTION, optimizer=OPTIMIZER, metrics=METRICS)\n"
   ]
  },
  {
   "cell_type": "code",
   "execution_count": 79,
   "id": "e0f74000",
   "metadata": {},
   "outputs": [],
   "source": [
    "# By default batch_size = 32\n",
    "# 55000 training data in our case"
   ]
  },
  {
   "cell_type": "code",
   "execution_count": 80,
   "id": "e738a1ff",
   "metadata": {},
   "outputs": [
    {
     "data": {
      "text/plain": [
       "1718.75"
      ]
     },
     "execution_count": 80,
     "metadata": {},
     "output_type": "execute_result"
    }
   ],
   "source": [
    "55000/32"
   ]
  },
  {
   "cell_type": "code",
   "execution_count": 78,
   "id": "4775a1e8",
   "metadata": {},
   "outputs": [
    {
     "name": "stdout",
     "output_type": "stream",
     "text": [
      "Epoch 1/30\n",
      "1719/1719 [==============================] - 7s 4ms/step - loss: 0.6206 - accuracy: 0.8370 - val_loss: 0.3044 - val_accuracy: 0.9134\n",
      "Epoch 2/30\n",
      "1719/1719 [==============================] - 5s 3ms/step - loss: 0.2874 - accuracy: 0.9181 - val_loss: 0.2379 - val_accuracy: 0.9308\n",
      "Epoch 3/30\n",
      "1719/1719 [==============================] - 5s 3ms/step - loss: 0.2354 - accuracy: 0.9339 - val_loss: 0.2034 - val_accuracy: 0.9412\n",
      "Epoch 4/30\n",
      "1719/1719 [==============================] - 5s 3ms/step - loss: 0.2017 - accuracy: 0.9431 - val_loss: 0.1829 - val_accuracy: 0.9496\n",
      "Epoch 5/30\n",
      "1719/1719 [==============================] - 6s 3ms/step - loss: 0.1766 - accuracy: 0.9499 - val_loss: 0.1606 - val_accuracy: 0.9552\n",
      "Epoch 6/30\n",
      "1719/1719 [==============================] - 5s 3ms/step - loss: 0.1569 - accuracy: 0.9561 - val_loss: 0.1486 - val_accuracy: 0.9612\n",
      "Epoch 7/30\n",
      "1719/1719 [==============================] - 5s 3ms/step - loss: 0.1404 - accuracy: 0.9605 - val_loss: 0.1360 - val_accuracy: 0.9626\n",
      "Epoch 8/30\n",
      "1719/1719 [==============================] - 5s 3ms/step - loss: 0.1272 - accuracy: 0.9642 - val_loss: 0.1255 - val_accuracy: 0.9658\n",
      "Epoch 9/30\n",
      "1719/1719 [==============================] - 5s 3ms/step - loss: 0.1157 - accuracy: 0.9675 - val_loss: 0.1221 - val_accuracy: 0.9652\n",
      "Epoch 10/30\n",
      "1719/1719 [==============================] - 5s 3ms/step - loss: 0.1061 - accuracy: 0.9706 - val_loss: 0.1128 - val_accuracy: 0.9686\n",
      "Epoch 11/30\n",
      "1719/1719 [==============================] - 5s 3ms/step - loss: 0.0977 - accuracy: 0.9732 - val_loss: 0.1082 - val_accuracy: 0.9718\n",
      "Epoch 12/30\n",
      "1719/1719 [==============================] - 5s 3ms/step - loss: 0.0901 - accuracy: 0.9757 - val_loss: 0.1030 - val_accuracy: 0.9720\n",
      "Epoch 13/30\n",
      "1719/1719 [==============================] - 5s 3ms/step - loss: 0.0833 - accuracy: 0.9769 - val_loss: 0.0960 - val_accuracy: 0.9742\n",
      "Epoch 14/30\n",
      "1719/1719 [==============================] - 6s 4ms/step - loss: 0.0774 - accuracy: 0.9788 - val_loss: 0.0954 - val_accuracy: 0.9742\n",
      "Epoch 15/30\n",
      "1719/1719 [==============================] - 5s 3ms/step - loss: 0.0721 - accuracy: 0.9801 - val_loss: 0.0921 - val_accuracy: 0.9758\n",
      "Epoch 16/30\n",
      "1719/1719 [==============================] - 5s 3ms/step - loss: 0.0669 - accuracy: 0.9821 - val_loss: 0.0876 - val_accuracy: 0.9762\n",
      "Epoch 17/30\n",
      "1719/1719 [==============================] - 5s 3ms/step - loss: 0.0623 - accuracy: 0.9834 - val_loss: 0.0837 - val_accuracy: 0.9766\n",
      "Epoch 18/30\n",
      "1719/1719 [==============================] - 5s 3ms/step - loss: 0.0583 - accuracy: 0.9845 - val_loss: 0.0821 - val_accuracy: 0.9770\n",
      "Epoch 19/30\n",
      "1719/1719 [==============================] - 6s 4ms/step - loss: 0.0545 - accuracy: 0.9851 - val_loss: 0.0835 - val_accuracy: 0.9770\n",
      "Epoch 20/30\n",
      "1719/1719 [==============================] - 5s 3ms/step - loss: 0.0511 - accuracy: 0.9865 - val_loss: 0.0792 - val_accuracy: 0.9782\n",
      "Epoch 21/30\n",
      "1719/1719 [==============================] - 5s 3ms/step - loss: 0.0484 - accuracy: 0.9872 - val_loss: 0.0779 - val_accuracy: 0.9790\n",
      "Epoch 22/30\n",
      "1719/1719 [==============================] - 5s 3ms/step - loss: 0.0452 - accuracy: 0.9882 - val_loss: 0.0779 - val_accuracy: 0.9782\n",
      "Epoch 23/30\n",
      "1719/1719 [==============================] - 6s 3ms/step - loss: 0.0427 - accuracy: 0.9888 - val_loss: 0.0745 - val_accuracy: 0.9774\n",
      "Epoch 24/30\n",
      "1719/1719 [==============================] - 5s 3ms/step - loss: 0.0403 - accuracy: 0.9894 - val_loss: 0.0757 - val_accuracy: 0.9776\n",
      "Epoch 25/30\n",
      "1719/1719 [==============================] - 5s 3ms/step - loss: 0.0378 - accuracy: 0.9903 - val_loss: 0.0743 - val_accuracy: 0.9786\n",
      "Epoch 26/30\n",
      "1719/1719 [==============================] - 6s 3ms/step - loss: 0.0353 - accuracy: 0.9914 - val_loss: 0.0728 - val_accuracy: 0.9790\n",
      "Epoch 27/30\n",
      "1719/1719 [==============================] - 6s 4ms/step - loss: 0.0334 - accuracy: 0.9920 - val_loss: 0.0740 - val_accuracy: 0.9774\n",
      "Epoch 28/30\n",
      "1719/1719 [==============================] - 6s 3ms/step - loss: 0.0315 - accuracy: 0.9924 - val_loss: 0.0714 - val_accuracy: 0.9786\n",
      "Epoch 29/30\n",
      "1719/1719 [==============================] - 6s 3ms/step - loss: 0.0298 - accuracy: 0.9929 - val_loss: 0.0705 - val_accuracy: 0.9780\n",
      "Epoch 30/30\n",
      "1719/1719 [==============================] - 6s 3ms/step - loss: 0.0279 - accuracy: 0.9936 - val_loss: 0.0714 - val_accuracy: 0.9788\n"
     ]
    }
   ],
   "source": [
    "# Fitting the model\n",
    "\n",
    "EPOCHS = 30\n",
    "VALIDATION = (X_valid, y_valid)\n",
    "\n",
    "history = model_clf.fit(X_train, y_train, epochs=EPOCHS, validation_data=VALIDATION)\n",
    "\n",
    "\n"
   ]
  },
  {
   "cell_type": "code",
   "execution_count": 81,
   "id": "4aa80cc5",
   "metadata": {},
   "outputs": [
    {
     "data": {
      "text/plain": [
       "{'verbose': 1, 'epochs': 30, 'steps': 1719}"
      ]
     },
     "execution_count": 81,
     "metadata": {},
     "output_type": "execute_result"
    }
   ],
   "source": [
    "history.params"
   ]
  },
  {
   "cell_type": "code",
   "execution_count": 82,
   "id": "ba4824b4",
   "metadata": {},
   "outputs": [
    {
     "data": {
      "text/plain": [
       "{'loss': [0.6205865740776062,\n",
       "  0.28739187121391296,\n",
       "  0.23543108999729156,\n",
       "  0.20168380439281464,\n",
       "  0.17661450803279877,\n",
       "  0.1569444239139557,\n",
       "  0.14042557775974274,\n",
       "  0.12716400623321533,\n",
       "  0.11565510183572769,\n",
       "  0.10607271641492844,\n",
       "  0.09774851053953171,\n",
       "  0.09007008373737335,\n",
       "  0.08326690644025803,\n",
       "  0.07738248258829117,\n",
       "  0.07206444442272186,\n",
       "  0.06690308451652527,\n",
       "  0.0623357892036438,\n",
       "  0.058302681893110275,\n",
       "  0.05452912673354149,\n",
       "  0.0511336475610733,\n",
       "  0.04843701049685478,\n",
       "  0.045235492289066315,\n",
       "  0.042689599096775055,\n",
       "  0.04026513174176216,\n",
       "  0.03782142326235771,\n",
       "  0.03527899831533432,\n",
       "  0.033422358334064484,\n",
       "  0.031529027968645096,\n",
       "  0.029824605211615562,\n",
       "  0.0279097743332386],\n",
       " 'accuracy': [0.8370363712310791,\n",
       "  0.918145477771759,\n",
       "  0.9338726997375488,\n",
       "  0.9431272745132446,\n",
       "  0.9498545527458191,\n",
       "  0.9560727477073669,\n",
       "  0.9605454802513123,\n",
       "  0.9642363786697388,\n",
       "  0.9675090909004211,\n",
       "  0.9706181883811951,\n",
       "  0.9732000231742859,\n",
       "  0.975672721862793,\n",
       "  0.9769272804260254,\n",
       "  0.9787818193435669,\n",
       "  0.9801090955734253,\n",
       "  0.9820727109909058,\n",
       "  0.9834181666374207,\n",
       "  0.9845454692840576,\n",
       "  0.9851272702217102,\n",
       "  0.9864909052848816,\n",
       "  0.9872000217437744,\n",
       "  0.9882000088691711,\n",
       "  0.9887818098068237,\n",
       "  0.9894182085990906,\n",
       "  0.9903454780578613,\n",
       "  0.9914000034332275,\n",
       "  0.9919636249542236,\n",
       "  0.9923818111419678,\n",
       "  0.9928908944129944,\n",
       "  0.9936181902885437],\n",
       " 'val_loss': [0.3043849468231201,\n",
       "  0.23789243400096893,\n",
       "  0.20338678359985352,\n",
       "  0.18290738761425018,\n",
       "  0.16062384843826294,\n",
       "  0.1485787034034729,\n",
       "  0.13599784672260284,\n",
       "  0.12551580369472504,\n",
       "  0.12211924046278,\n",
       "  0.11280371993780136,\n",
       "  0.108211450278759,\n",
       "  0.10296320915222168,\n",
       "  0.09601125866174698,\n",
       "  0.0953628197312355,\n",
       "  0.09212083369493484,\n",
       "  0.0876459926366806,\n",
       "  0.08370795100927353,\n",
       "  0.0820670798420906,\n",
       "  0.08347845822572708,\n",
       "  0.07920210063457489,\n",
       "  0.07792794704437256,\n",
       "  0.07786757498979568,\n",
       "  0.07450830936431885,\n",
       "  0.07570712268352509,\n",
       "  0.07425250113010406,\n",
       "  0.07278592139482498,\n",
       "  0.07396747171878815,\n",
       "  0.07135555148124695,\n",
       "  0.0704665258526802,\n",
       "  0.07136756926774979],\n",
       " 'val_accuracy': [0.9133999943733215,\n",
       "  0.9308000206947327,\n",
       "  0.9412000179290771,\n",
       "  0.9495999813079834,\n",
       "  0.9552000164985657,\n",
       "  0.9611999988555908,\n",
       "  0.9625999927520752,\n",
       "  0.9657999873161316,\n",
       "  0.9652000069618225,\n",
       "  0.9685999751091003,\n",
       "  0.9718000292778015,\n",
       "  0.972000002861023,\n",
       "  0.9742000102996826,\n",
       "  0.9742000102996826,\n",
       "  0.9757999777793884,\n",
       "  0.9761999845504761,\n",
       "  0.9765999913215637,\n",
       "  0.9769999980926514,\n",
       "  0.9769999980926514,\n",
       "  0.9782000184059143,\n",
       "  0.9789999723434448,\n",
       "  0.9782000184059143,\n",
       "  0.977400004863739,\n",
       "  0.9775999784469604,\n",
       "  0.978600025177002,\n",
       "  0.9789999723434448,\n",
       "  0.977400004863739,\n",
       "  0.978600025177002,\n",
       "  0.9779999852180481,\n",
       "  0.9787999987602234]}"
      ]
     },
     "execution_count": 82,
     "metadata": {},
     "output_type": "execute_result"
    }
   ],
   "source": [
    "history.history"
   ]
  },
  {
   "cell_type": "code",
   "execution_count": 83,
   "id": "cce8b77b",
   "metadata": {},
   "outputs": [
    {
     "data": {
      "text/plain": [
       "dict"
      ]
     },
     "execution_count": 83,
     "metadata": {},
     "output_type": "execute_result"
    }
   ],
   "source": [
    "type(history.history)"
   ]
  },
  {
   "cell_type": "code",
   "execution_count": 84,
   "id": "c3be7804",
   "metadata": {},
   "outputs": [
    {
     "data": {
      "text/html": [
       "<div>\n",
       "<style scoped>\n",
       "    .dataframe tbody tr th:only-of-type {\n",
       "        vertical-align: middle;\n",
       "    }\n",
       "\n",
       "    .dataframe tbody tr th {\n",
       "        vertical-align: top;\n",
       "    }\n",
       "\n",
       "    .dataframe thead th {\n",
       "        text-align: right;\n",
       "    }\n",
       "</style>\n",
       "<table border=\"1\" class=\"dataframe\">\n",
       "  <thead>\n",
       "    <tr style=\"text-align: right;\">\n",
       "      <th></th>\n",
       "      <th>loss</th>\n",
       "      <th>accuracy</th>\n",
       "      <th>val_loss</th>\n",
       "      <th>val_accuracy</th>\n",
       "    </tr>\n",
       "  </thead>\n",
       "  <tbody>\n",
       "    <tr>\n",
       "      <th>0</th>\n",
       "      <td>0.620587</td>\n",
       "      <td>0.837036</td>\n",
       "      <td>0.304385</td>\n",
       "      <td>0.9134</td>\n",
       "    </tr>\n",
       "    <tr>\n",
       "      <th>1</th>\n",
       "      <td>0.287392</td>\n",
       "      <td>0.918145</td>\n",
       "      <td>0.237892</td>\n",
       "      <td>0.9308</td>\n",
       "    </tr>\n",
       "    <tr>\n",
       "      <th>2</th>\n",
       "      <td>0.235431</td>\n",
       "      <td>0.933873</td>\n",
       "      <td>0.203387</td>\n",
       "      <td>0.9412</td>\n",
       "    </tr>\n",
       "    <tr>\n",
       "      <th>3</th>\n",
       "      <td>0.201684</td>\n",
       "      <td>0.943127</td>\n",
       "      <td>0.182907</td>\n",
       "      <td>0.9496</td>\n",
       "    </tr>\n",
       "    <tr>\n",
       "      <th>4</th>\n",
       "      <td>0.176615</td>\n",
       "      <td>0.949855</td>\n",
       "      <td>0.160624</td>\n",
       "      <td>0.9552</td>\n",
       "    </tr>\n",
       "    <tr>\n",
       "      <th>5</th>\n",
       "      <td>0.156944</td>\n",
       "      <td>0.956073</td>\n",
       "      <td>0.148579</td>\n",
       "      <td>0.9612</td>\n",
       "    </tr>\n",
       "    <tr>\n",
       "      <th>6</th>\n",
       "      <td>0.140426</td>\n",
       "      <td>0.960545</td>\n",
       "      <td>0.135998</td>\n",
       "      <td>0.9626</td>\n",
       "    </tr>\n",
       "    <tr>\n",
       "      <th>7</th>\n",
       "      <td>0.127164</td>\n",
       "      <td>0.964236</td>\n",
       "      <td>0.125516</td>\n",
       "      <td>0.9658</td>\n",
       "    </tr>\n",
       "    <tr>\n",
       "      <th>8</th>\n",
       "      <td>0.115655</td>\n",
       "      <td>0.967509</td>\n",
       "      <td>0.122119</td>\n",
       "      <td>0.9652</td>\n",
       "    </tr>\n",
       "    <tr>\n",
       "      <th>9</th>\n",
       "      <td>0.106073</td>\n",
       "      <td>0.970618</td>\n",
       "      <td>0.112804</td>\n",
       "      <td>0.9686</td>\n",
       "    </tr>\n",
       "    <tr>\n",
       "      <th>10</th>\n",
       "      <td>0.097749</td>\n",
       "      <td>0.973200</td>\n",
       "      <td>0.108211</td>\n",
       "      <td>0.9718</td>\n",
       "    </tr>\n",
       "    <tr>\n",
       "      <th>11</th>\n",
       "      <td>0.090070</td>\n",
       "      <td>0.975673</td>\n",
       "      <td>0.102963</td>\n",
       "      <td>0.9720</td>\n",
       "    </tr>\n",
       "    <tr>\n",
       "      <th>12</th>\n",
       "      <td>0.083267</td>\n",
       "      <td>0.976927</td>\n",
       "      <td>0.096011</td>\n",
       "      <td>0.9742</td>\n",
       "    </tr>\n",
       "    <tr>\n",
       "      <th>13</th>\n",
       "      <td>0.077382</td>\n",
       "      <td>0.978782</td>\n",
       "      <td>0.095363</td>\n",
       "      <td>0.9742</td>\n",
       "    </tr>\n",
       "    <tr>\n",
       "      <th>14</th>\n",
       "      <td>0.072064</td>\n",
       "      <td>0.980109</td>\n",
       "      <td>0.092121</td>\n",
       "      <td>0.9758</td>\n",
       "    </tr>\n",
       "    <tr>\n",
       "      <th>15</th>\n",
       "      <td>0.066903</td>\n",
       "      <td>0.982073</td>\n",
       "      <td>0.087646</td>\n",
       "      <td>0.9762</td>\n",
       "    </tr>\n",
       "    <tr>\n",
       "      <th>16</th>\n",
       "      <td>0.062336</td>\n",
       "      <td>0.983418</td>\n",
       "      <td>0.083708</td>\n",
       "      <td>0.9766</td>\n",
       "    </tr>\n",
       "    <tr>\n",
       "      <th>17</th>\n",
       "      <td>0.058303</td>\n",
       "      <td>0.984545</td>\n",
       "      <td>0.082067</td>\n",
       "      <td>0.9770</td>\n",
       "    </tr>\n",
       "    <tr>\n",
       "      <th>18</th>\n",
       "      <td>0.054529</td>\n",
       "      <td>0.985127</td>\n",
       "      <td>0.083478</td>\n",
       "      <td>0.9770</td>\n",
       "    </tr>\n",
       "    <tr>\n",
       "      <th>19</th>\n",
       "      <td>0.051134</td>\n",
       "      <td>0.986491</td>\n",
       "      <td>0.079202</td>\n",
       "      <td>0.9782</td>\n",
       "    </tr>\n",
       "    <tr>\n",
       "      <th>20</th>\n",
       "      <td>0.048437</td>\n",
       "      <td>0.987200</td>\n",
       "      <td>0.077928</td>\n",
       "      <td>0.9790</td>\n",
       "    </tr>\n",
       "    <tr>\n",
       "      <th>21</th>\n",
       "      <td>0.045235</td>\n",
       "      <td>0.988200</td>\n",
       "      <td>0.077868</td>\n",
       "      <td>0.9782</td>\n",
       "    </tr>\n",
       "    <tr>\n",
       "      <th>22</th>\n",
       "      <td>0.042690</td>\n",
       "      <td>0.988782</td>\n",
       "      <td>0.074508</td>\n",
       "      <td>0.9774</td>\n",
       "    </tr>\n",
       "    <tr>\n",
       "      <th>23</th>\n",
       "      <td>0.040265</td>\n",
       "      <td>0.989418</td>\n",
       "      <td>0.075707</td>\n",
       "      <td>0.9776</td>\n",
       "    </tr>\n",
       "    <tr>\n",
       "      <th>24</th>\n",
       "      <td>0.037821</td>\n",
       "      <td>0.990345</td>\n",
       "      <td>0.074253</td>\n",
       "      <td>0.9786</td>\n",
       "    </tr>\n",
       "    <tr>\n",
       "      <th>25</th>\n",
       "      <td>0.035279</td>\n",
       "      <td>0.991400</td>\n",
       "      <td>0.072786</td>\n",
       "      <td>0.9790</td>\n",
       "    </tr>\n",
       "    <tr>\n",
       "      <th>26</th>\n",
       "      <td>0.033422</td>\n",
       "      <td>0.991964</td>\n",
       "      <td>0.073967</td>\n",
       "      <td>0.9774</td>\n",
       "    </tr>\n",
       "    <tr>\n",
       "      <th>27</th>\n",
       "      <td>0.031529</td>\n",
       "      <td>0.992382</td>\n",
       "      <td>0.071356</td>\n",
       "      <td>0.9786</td>\n",
       "    </tr>\n",
       "    <tr>\n",
       "      <th>28</th>\n",
       "      <td>0.029825</td>\n",
       "      <td>0.992891</td>\n",
       "      <td>0.070467</td>\n",
       "      <td>0.9780</td>\n",
       "    </tr>\n",
       "    <tr>\n",
       "      <th>29</th>\n",
       "      <td>0.027910</td>\n",
       "      <td>0.993618</td>\n",
       "      <td>0.071368</td>\n",
       "      <td>0.9788</td>\n",
       "    </tr>\n",
       "  </tbody>\n",
       "</table>\n",
       "</div>"
      ],
      "text/plain": [
       "        loss  accuracy  val_loss  val_accuracy\n",
       "0   0.620587  0.837036  0.304385        0.9134\n",
       "1   0.287392  0.918145  0.237892        0.9308\n",
       "2   0.235431  0.933873  0.203387        0.9412\n",
       "3   0.201684  0.943127  0.182907        0.9496\n",
       "4   0.176615  0.949855  0.160624        0.9552\n",
       "5   0.156944  0.956073  0.148579        0.9612\n",
       "6   0.140426  0.960545  0.135998        0.9626\n",
       "7   0.127164  0.964236  0.125516        0.9658\n",
       "8   0.115655  0.967509  0.122119        0.9652\n",
       "9   0.106073  0.970618  0.112804        0.9686\n",
       "10  0.097749  0.973200  0.108211        0.9718\n",
       "11  0.090070  0.975673  0.102963        0.9720\n",
       "12  0.083267  0.976927  0.096011        0.9742\n",
       "13  0.077382  0.978782  0.095363        0.9742\n",
       "14  0.072064  0.980109  0.092121        0.9758\n",
       "15  0.066903  0.982073  0.087646        0.9762\n",
       "16  0.062336  0.983418  0.083708        0.9766\n",
       "17  0.058303  0.984545  0.082067        0.9770\n",
       "18  0.054529  0.985127  0.083478        0.9770\n",
       "19  0.051134  0.986491  0.079202        0.9782\n",
       "20  0.048437  0.987200  0.077928        0.9790\n",
       "21  0.045235  0.988200  0.077868        0.9782\n",
       "22  0.042690  0.988782  0.074508        0.9774\n",
       "23  0.040265  0.989418  0.075707        0.9776\n",
       "24  0.037821  0.990345  0.074253        0.9786\n",
       "25  0.035279  0.991400  0.072786        0.9790\n",
       "26  0.033422  0.991964  0.073967        0.9774\n",
       "27  0.031529  0.992382  0.071356        0.9786\n",
       "28  0.029825  0.992891  0.070467        0.9780\n",
       "29  0.027910  0.993618  0.071368        0.9788"
      ]
     },
     "execution_count": 84,
     "metadata": {},
     "output_type": "execute_result"
    }
   ],
   "source": [
    "pd.DataFrame(history.history)"
   ]
  },
  {
   "cell_type": "code",
   "execution_count": 85,
   "id": "d2b45479",
   "metadata": {},
   "outputs": [
    {
     "data": {
      "image/png": "[encoded data removed]",
      "text/plain": [
       "<Figure size 720x504 with 1 Axes>"
      ]
     },
     "metadata": {
      "needs_background": "light"
     },
     "output_type": "display_data"
    }
   ],
   "source": [
    "pd.DataFrame(history.history).plot(figsize=(10,7))\n",
    "plt.grid(True)\n",
    "plt.show()"
   ]
  },
  {
   "cell_type": "code",
   "execution_count": 86,
   "id": "a6076239",
   "metadata": {},
   "outputs": [
    {
     "name": "stdout",
     "output_type": "stream",
     "text": [
      "313/313 [==============================] - 1s 2ms/step - loss: 0.0680 - accuracy: 0.9789\n"
     ]
    },
    {
     "data": {
      "text/plain": [
       "[0.06795037537813187, 0.9789000153541565]"
      ]
     },
     "execution_count": 86,
     "metadata": {},
     "output_type": "execute_result"
    }
   ],
   "source": [
    "model_clf.evaluate(X_test,y_test)"
   ]
  },
  {
   "cell_type": "code",
   "execution_count": 87,
   "id": "7b88cb56",
   "metadata": {},
   "outputs": [
    {
     "data": {
      "text/plain": [
       "312.5"
      ]
     },
     "execution_count": 87,
     "metadata": {},
     "output_type": "execute_result"
    }
   ],
   "source": [
    "10000/32"
   ]
  },
  {
   "cell_type": "code",
   "execution_count": 88,
   "id": "4dee5749",
   "metadata": {},
   "outputs": [
    {
     "data": {
      "text/plain": [
       "array([[3.46470802e-06, 3.07546522e-08, 8.65493348e-05, 2.88384734e-04,\n",
       "        3.71358966e-09, 3.91448722e-08, 4.64944272e-13, 9.99576151e-01,\n",
       "        2.82630799e-06, 4.25405233e-05],\n",
       "       [1.11367136e-07, 3.84954228e-06, 9.99948144e-01, 2.94635356e-05,\n",
       "        2.53710052e-12, 2.87862008e-07, 2.70465034e-06, 3.27031457e-12,\n",
       "        1.54317022e-05, 3.41455922e-14],\n",
       "       [2.28453027e-05, 9.97644007e-01, 1.85634402e-04, 2.68753283e-05,\n",
       "        4.29470238e-04, 1.23812817e-04, 6.19429338e-05, 9.73292161e-04,\n",
       "        5.18606685e-04, 1.34203292e-05]], dtype=float32)"
      ]
     },
     "execution_count": 88,
     "metadata": {},
     "output_type": "execute_result"
    }
   ],
   "source": [
    "X_new=X_test[:3]\n",
    "\n",
    "y_prob=model_clf.predict(X_new)\n",
    "y_prob"
   ]
  },
  {
   "cell_type": "code",
   "execution_count": 90,
   "id": "083cde38",
   "metadata": {},
   "outputs": [
    {
     "data": {
      "text/plain": [
       "array([[0.   , 0.   , 0.   , 0.   , 0.   , 0.   , 0.   , 1.   , 0.   ,\n",
       "        0.   ],\n",
       "       [0.   , 0.   , 1.   , 0.   , 0.   , 0.   , 0.   , 0.   , 0.   ,\n",
       "        0.   ],\n",
       "       [0.   , 0.998, 0.   , 0.   , 0.   , 0.   , 0.   , 0.001, 0.001,\n",
       "        0.   ]], dtype=float32)"
      ]
     },
     "execution_count": 90,
     "metadata": {},
     "output_type": "execute_result"
    }
   ],
   "source": [
    "y_prob.round(3)"
   ]
  },
  {
   "cell_type": "code",
   "execution_count": 91,
   "id": "ebdb103a",
   "metadata": {},
   "outputs": [
    {
     "data": {
      "text/plain": [
       "(3, 10)"
      ]
     },
     "execution_count": 91,
     "metadata": {},
     "output_type": "execute_result"
    }
   ],
   "source": [
    "y_prob.shape"
   ]
  },
  {
   "cell_type": "code",
   "execution_count": 92,
   "id": "a383c3ae",
   "metadata": {},
   "outputs": [],
   "source": [
    "y_pred=np.argmax(y_prob, axis = -1)"
   ]
  },
  {
   "cell_type": "code",
   "execution_count": 93,
   "id": "bf840001",
   "metadata": {},
   "outputs": [
    {
     "data": {
      "text/plain": [
       "array([7, 2, 1], dtype=int64)"
      ]
     },
     "execution_count": 93,
     "metadata": {},
     "output_type": "execute_result"
    }
   ],
   "source": [
    "y_pred"
   ]
  },
  {
   "cell_type": "code",
   "execution_count": 95,
   "id": "2ee49909",
   "metadata": {},
   "outputs": [
    {
     "data": {
      "image/png": "[encoded data removed]",
      "text/plain": [
       "<Figure size 432x288 with 1 Axes>"
      ]
     },
     "metadata": {
      "needs_background": "light"
     },
     "output_type": "display_data"
    },
    {
     "name": "stdout",
     "output_type": "stream",
     "text": [
      "------------------------------------------------------------\n"
     ]
    },
    {
     "data": {
      "image/png": "[encoded data removed]",
      "text/plain": [
       "<Figure size 432x288 with 1 Axes>"
      ]
     },
     "metadata": {
      "needs_background": "light"
     },
     "output_type": "display_data"
    },
    {
     "name": "stdout",
     "output_type": "stream",
     "text": [
      "------------------------------------------------------------\n"
     ]
    },
    {
     "data": {
      "image/png": "[encoded data removed]",
      "text/plain": [
       "<Figure size 432x288 with 1 Axes>"
      ]
     },
     "metadata": {
      "needs_background": "light"
     },
     "output_type": "display_data"
    },
    {
     "name": "stdout",
     "output_type": "stream",
     "text": [
      "------------------------------------------------------------\n"
     ]
    }
   ],
   "source": [
    "for img_array, pred, actual in zip(X_new, y_pred, y_test[:3]):\n",
    "  plt.imshow(img_array, cmap=\"binary\")\n",
    "  plt.title(f\"predicted: {pred}, Actual: {actual}\")\n",
    "  plt.axis(\"off\")\n",
    "  plt.show()\n",
    "  print(\"---\"*20)"
   ]
  },
  {
   "cell_type": "code",
   "execution_count": 96,
   "id": "a3b22344",
   "metadata": {},
   "outputs": [
    {
     "name": "stdout",
     "output_type": "stream",
     "text": [
      "6\n",
      "8\n",
      "10\n"
     ]
    }
   ],
   "source": [
    "a = (1,2,3)\n",
    "\n",
    "b = (5,6,7)\n",
    "\n",
    "for i, j in zip(a,b):\n",
    "  print(i+j)\n"
   ]
  },
  {
   "cell_type": "code",
   "execution_count": 97,
   "id": "84224756",
   "metadata": {},
   "outputs": [
    {
     "data": {
      "text/plain": [
       "<zip at 0x217ad81f2c0>"
      ]
     },
     "execution_count": 97,
     "metadata": {},
     "output_type": "execute_result"
    }
   ],
   "source": [
    "zip(a,b)"
   ]
  },
  {
   "cell_type": "code",
   "execution_count": 98,
   "id": "65b29dc8",
   "metadata": {},
   "outputs": [
    {
     "data": {
      "text/plain": [
       "[(1, 5), (2, 6), (3, 7)]"
      ]
     },
     "execution_count": 98,
     "metadata": {},
     "output_type": "execute_result"
    }
   ],
   "source": [
    "list(zip(a,b))"
   ]
  },
  {
   "cell_type": "code",
   "execution_count": 99,
   "id": "63f0d049",
   "metadata": {},
   "outputs": [],
   "source": [
    "model_clf.save(\"model_clf.h5\")"
   ]
  },
  {
   "cell_type": "code",
   "execution_count": null,
   "id": "525c911a",
   "metadata": {},
   "outputs": [],
   "source": []
  }
 ],
 "metadata": {
  "kernelspec": {
   "display_name": "Python 3 (ipykernel)",
   "language": "python",
   "name": "python3"
  },
  "language_info": {
   "codemirror_mode": {
    "name": "ipython",
    "version": 3
   },
   "file_extension": ".py",
   "mimetype": "text/x-python",
   "name": "python",
   "nbconvert_exporter": "python",
   "pygments_lexer": "ipython3",
   "version": "3.9.7"
  }
 },
 "nbformat": 4,
 "nbformat_minor": 5
}
